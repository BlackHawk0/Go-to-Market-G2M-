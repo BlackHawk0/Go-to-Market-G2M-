{
 "cells": [
  {
   "cell_type": "code",
   "execution_count": null,
   "metadata": {
    "is_executing": true
   },
   "outputs": [],
   "source": [
    "# libraries\n",
    "import pandas as pd\n",
    "import os\n",
    "from sklearn.preprocessing import OneHotEncoder, LabelEncoder\n",
    "import matplotlib.pyplot as plt\n",
    "%matplotlib inline\n"
   ]
  },
  {
   "cell_type": "code",
   "execution_count": null,
   "metadata": {
    "is_executing": true
   },
   "outputs": [],
   "source": [
    "dir = os.getcwd()\n",
    "file_path = os.path.join(dir,\"DataSets-main\" )\n",
    "cab_df = pd.read_csv(file_path + \"/Cab_Data.csv\")\n",
    "city_df = pd.read_csv(file_path + \"/City.csv\")\n",
    "customer_df = pd.read_csv(file_path + \"/Customer_ID.csv\")\n",
    "transaction_df = pd.read_csv(file_path + \"/Transaction_ID.csv\")\n",
    "\n",
    "# change the date format to a more readable format\n",
    "cab_df['Date of Travel'] = pd.to_datetime(cab_df['Date of Travel'], origin='1899-12-30', unit='D')"
   ]
  },
  {
   "cell_type": "code",
   "execution_count": null,
   "metadata": {
    "is_executing": true
   },
   "outputs": [],
   "source": [
    "# Get information of the cab dataframe\n",
    "cab_df.info()\n",
    "# Percentage of missing values\n",
    "print(\"Percentage of missing values\")\n",
    "cab_df.isnull().sum()/ len(cab_df)"
   ]
  },
  {
   "cell_type": "code",
   "execution_count": null,
   "metadata": {
    "is_executing": true
   },
   "outputs": [],
   "source": [
    "city_df.head()\n"
   ]
  },
  {
   "cell_type": "code",
   "execution_count": null,
   "metadata": {
    "is_executing": true
   },
   "outputs": [],
   "source": [
    "city_df.info()\n",
    "\n",
    "#Checking for null values\n",
    "city_df.isna().sum() / len(city_df)"
   ]
  },
  {
   "cell_type": "code",
   "execution_count": null,
   "metadata": {
    "is_executing": true
   },
   "outputs": [],
   "source": [
    "customer_df.head()\n"
   ]
  },
  {
   "cell_type": "code",
   "execution_count": null,
   "metadata": {
    "is_executing": true
   },
   "outputs": [],
   "source": [
    "customer_df.info()\n",
    "\n",
    "customer_df.isnull().sum()"
   ]
  },
  {
   "cell_type": "code",
   "execution_count": null,
   "metadata": {
    "is_executing": true
   },
   "outputs": [],
   "source": [
    "transaction_df.head()"
   ]
  },
  {
   "cell_type": "code",
   "execution_count": null,
   "metadata": {
    "is_executing": true
   },
   "outputs": [],
   "source": [
    "transaction_df.info()\n",
    "\n",
    "transaction_df.isnull().sum()"
   ]
  },
  {
   "cell_type": "markdown",
   "metadata": {},
   "source": [
    "## Combining the datasets to one dataframe"
   ]
  },
  {
   "cell_type": "code",
   "execution_count": null,
   "metadata": {
    "is_executing": true
   },
   "outputs": [],
   "source": [
    "# Customer information\n",
    "customer_info = pd.merge(customer_df, transaction_df)\n",
    "customer_info.head()\n"
   ]
  },
  {
   "cell_type": "code",
   "execution_count": null,
   "metadata": {
    "is_executing": true
   },
   "outputs": [],
   "source": [
    "# Cab information\n",
    "cab_info = pd.merge(cab_df, city_df)\n",
    "cab_info.head()"
   ]
  },
  {
   "cell_type": "code",
   "execution_count": null,
   "metadata": {
    "is_executing": true
   },
   "outputs": [],
   "source": [
    "#print the shapes of the initial dataframes\n",
    "print(f\"Shape for cab: {cab_df.shape}, customer : {customer_df.shape}, City: {city_df.shape}, transaction: {transaction_df.shape}\")"
   ]
  },
  {
   "cell_type": "markdown",
   "metadata": {},
   "source": [
    "### Encoding categorical columns"
   ]
  },
  {
   "cell_type": "code",
   "execution_count": null,
   "metadata": {
    "is_executing": true
   },
   "outputs": [],
   "source": [
    "# Select the columns to be encoded\n",
    "target_columns = customer_info[['Gender', 'Payment_Mode']]\n",
    "\n",
    "# Perform label encoding\n",
    "label_encoder = LabelEncoder()\n",
    "label_encoded = target_columns.apply(label_encoder.fit_transform)\n",
    "\n",
    "# Perform one-hot encoding\n",
    "one_hot_encoder = OneHotEncoder()\n",
    "one_hot_encoded = one_hot_encoder.fit_transform(label_encoded)\n",
    "\n",
    "# Get the feature names\n",
    "encoded_feature_names = []\n",
    "for col in target_columns.columns:\n",
    "    # Getting the unique categorical values in the target columns\n",
    "    unique_values = target_columns[col].unique()\n",
    "    for value in unique_values:\n",
    "        encoded_feature_names.append(f\"{col}_{value}\")\n",
    "\n",
    "# create a dataframe of the one-hot encoded columns\n",
    "one_hot_encoded_df = pd.DataFrame(one_hot_encoded.toarray(), columns=encoded_feature_names)\n",
    "\n",
    "# Concatenate the customer dataframe with the one-hot encoded columns\n",
    "customer_info_encoded = pd.concat([customer_info.drop(target_columns, axis=1), one_hot_encoded_df], axis=1)\n",
    "\n",
    "one_hot_encoded_df.head()\n"
   ]
  },
  {
   "cell_type": "markdown",
   "metadata": {},
   "source": [
    "## Understanding the relationships between the data"
   ]
  },
  {
   "cell_type": "code",
   "execution_count": null,
   "metadata": {
    "is_executing": true
   },
   "outputs": [],
   "source": [
    "# combined data ---> Actionable data. It contains data of customers that have used the cab between 31/01/2016 to 31/12/2018\n",
    "combined_df = customer_info_encoded.merge(cab_info, on='Transaction ID')\n",
    "combined_df.head()"
   ]
  },
  {
   "cell_type": "markdown",
   "metadata": {},
   "source": [
    "### 1. Market share for each company\n",
    "   -  It shows the level of acceptance or popularity of the cabs in the market.\n",
    "   - The market share of each company is calculated by comparing the total number of trips made by each company to the total number of trips in the market"
   ]
  },
  {
   "cell_type": "code",
   "execution_count": null,
   "metadata": {
    "is_executing": true
   },
   "outputs": [],
   "source": [
    "# Filter the dataframe based on Company\n",
    "pink_cab_df = combined_df[(combined_df['Company'] == 'Pink Cab')]\n",
    "yellow_cab_df = combined_df[(combined_df['Company'] == 'Yellow Cab')]\n",
    "\n",
    "# Total number of trips for each company\n",
    "pink_cab_trips = pink_cab_df.shape[0]\n",
    "yellow_cab_trips = yellow_cab_df.shape[0]\n",
    "\n",
    "# Total number of trips in the market\n",
    "total_trips = combined_df.shape[0]\n",
    "\n",
    "# Market share for each company\n",
    "pink_cab_market_share = pink_cab_trips / total_trips * 100\n",
    "yellow_cab_market_share = yellow_cab_trips / total_trips * 100\n",
    "\n",
    "# Pie chart to visualize the market share\n",
    "labels = ['Pink Cab', 'Yellow Cab']\n",
    "sizes = [pink_cab_market_share, yellow_cab_market_share]\n",
    "colors = ['r', 'b']\n",
    "explode = (0.1, 0)\n",
    "\n",
    "plt.pie(sizes, explode=explode, labels=labels, colors=colors,\n",
    "        autopct='%1.1f%%', startangle=90)\n",
    "plt.axis('equal')\n",
    "plt.title('Market Share: Pink Cab vs. Yellow Cab')\n",
    "plt.show()"
   ]
  },
  {
   "cell_type": "markdown",
   "metadata": {},
   "source": [
    "### 2. Customer Retention\n",
    "   -  Customer retention is crucial for the long-term success of a cab company."
   ]
  },
  {
   "cell_type": "code",
   "execution_count": null,
   "metadata": {
    "is_executing": true
   },
   "outputs": [],
   "source": [
    "# Determine the time frames within the specified time period\n",
    "start_date = '2016-01-31'\n",
    "end_date = '2018-12-31'\n",
    "time_frames = pd.date_range(start=start_date, end=end_date, freq='Y')\n",
    "\n",
    "# Calculate the customer retention rate for each company for each time frame\n",
    "retention_rates_pink_cab = []\n",
    "retention_rates_yellow_cab = []\n",
    "\n",
    "for i in range(len(time_frames) - 1):\n",
    "    start_date = time_frames[i].strftime('%Y-%m-%d')\n",
    "    end_date = time_frames[i+1].strftime('%Y-%m-%d')\n",
    "\n",
    "    #determine the start amd end customers of tje pink cab\n",
    "    pink_cab_start_customers = len(pink_cab_df[pink_cab_df['Date of Travel'] <= start_date]['Customer ID'].unique())\n",
    "    pink_cab_end_customers = len(pink_cab_df[pink_cab_df['Date of Travel'] <= end_date]['Customer ID'].unique())\n",
    "\n",
    "    # determine the new customers throughout the year\n",
    "    pink_cab_new_customers = len(pink_cab_df[(pink_cab_df['Date of Travel'] >= start_date) & (pink_cab_df['Date of Travel'] <= end_date)]['Customer ID'].unique())\n",
    "\n",
    "    # determine the start and end customers pf tje pink cab\n",
    "    yellow_cab_start_customers = len(yellow_cab_df[yellow_cab_df['Date of Travel'] <= start_date]['Customer ID'].unique())\n",
    "    yellow_cab_end_customers = len(yellow_cab_df[yellow_cab_df['Date of Travel'] <= end_date]['Customer ID'].unique())\n",
    "\n",
    "    # determine the new customers throughout the year\n",
    "    yellow_cab_new_customers = len(yellow_cab_df[(yellow_cab_df['Date of Travel'] >= start_date) & (yellow_cab_df['Date of Travel'] <= end_date)]['Customer ID'].unique())\n",
    "\n",
    "    # calculating the retention rate\n",
    "    pink_cab_retention_rate = (pink_cab_end_customers - pink_cab_new_customers) / pink_cab_start_customers * 100\n",
    "    yellow_cab_retention_rate = (yellow_cab_end_customers - yellow_cab_new_customers) / yellow_cab_start_customers * 100\n",
    "\n",
    "    retention_rates_pink_cab.append(pink_cab_retention_rate)\n",
    "    retention_rates_yellow_cab.append(yellow_cab_retention_rate)\n",
    "\n",
    "\n",
    "for i in range(len(time_frames) - 1):\n",
    "    year = time_frames[i].year\n",
    "    pink_cab_rate = retention_rates_pink_cab[i]\n",
    "    yellow_cab_rate = retention_rates_yellow_cab[i]\n",
    "\n",
    "    print(f\"Retention Rates for Year {year}:\")\n",
    "    print(\"Pink Cab: {:.2f}%\".format(pink_cab_rate))\n",
    "    print(\"Yellow Cab: {:.2f}%\".format(yellow_cab_rate))\n",
    "    print()\n",
    "\n",
    "# Plotting retention rates for Pink Cab\n",
    "plt.plot(time_frames[:-1], retention_rates_pink_cab, marker='o', label='Pink Cab')\n",
    "\n",
    "# Plotting retention rates for Yellow Cab\n",
    "plt.plot(time_frames[:-1], retention_rates_yellow_cab, marker='o', label='Yellow Cab')\n",
    "\n",
    "# Set title and labels\n",
    "plt.title('Customer Retention Rates Over Time')\n",
    "plt.xlabel('Year')\n",
    "plt.ylabel('Retention Rate (%)')\n",
    "\n",
    "# Set x-axis tick labels\n",
    "plt.xticks(time_frames[:-1], [str(year) for year in time_frames[:-1].year], rotation=45)\n",
    "\n",
    "# Add legend\n",
    "plt.legend()\n",
    "\n",
    "# Display the plot\n",
    "plt.show()"
   ]
  },
  {
   "cell_type": "markdown",
   "metadata": {},
   "source": [
    "### 3. Customer Segmentation"
   ]
  },
  {
   "cell_type": "code",
   "execution_count": null,
   "metadata": {
    "is_executing": true
   },
   "outputs": [],
   "source": [
    "cab_distribution = combined_df.groupby(['City', 'Company']).size().unstack(level=1)\n",
    "\n",
    "# Stacked bar graph for cab distribution in all cities\n",
    "cab_distribution.plot(kind='bar', figsize=(12, 6))\n",
    "plt.xlabel('City')\n",
    "plt.ylabel('Number of Trips')\n",
    "plt.title('Cab Distribution in All Cities')\n",
    "plt.legend()\n",
    "plt.show()\n",
    "\n",
    "# Group the data by city and cab company and count the number of unique customer IDs\n",
    "customer_distribution = combined_df.groupby(['City', 'Company'])['Customer ID'].nunique().unstack()\n",
    "# Create a bar graph to visualize the customer distribution or presence in each city for the cab companies\n",
    "customer_distribution.plot(kind='bar', figsize=(12, 6))\n",
    "plt.xlabel('City')\n",
    "plt.ylabel('Number of Customers')\n",
    "plt.title('Customer Distribution in Each City for Cab Companies')\n",
    "plt.legend()\n",
    "plt.show()"
   ]
  },
  {
   "cell_type": "markdown",
   "metadata": {},
   "source": [
    "## 4. Customer Preferences\n",
    "\n",
    "* Determining customer preference based on gender, payment methods and age"
   ]
  },
  {
   "cell_type": "code",
   "execution_count": 1,
   "metadata": {
    "is_executing": true
   },
   "outputs": [
    {
     "ename": "NameError",
     "evalue": "name 'pink_cab_df' is not defined",
     "output_type": "error",
     "traceback": [
      "\u001b[0;31m---------------------------------------------------------------------------\u001b[0m",
      "\u001b[0;31mNameError\u001b[0m                                 Traceback (most recent call last)",
      "Cell \u001b[0;32mIn[1], line 7\u001b[0m\n\u001b[1;32m      4\u001b[0m age_factor \u001b[39m=\u001b[39m \u001b[39m'\u001b[39m\u001b[39mAge\u001b[39m\u001b[39m'\u001b[39m\n\u001b[1;32m      6\u001b[0m \u001b[39m# Customer preferences for each factor and cab company\u001b[39;00m\n\u001b[0;32m----> 7\u001b[0m pink_cab_preferences \u001b[39m=\u001b[39m pink_cab_df\u001b[39m.\u001b[39mgroupby(\u001b[39m'\u001b[39m\u001b[39mCity\u001b[39m\u001b[39m'\u001b[39m)[gender_factors \u001b[39m+\u001b[39m payment_factors \u001b[39m+\u001b[39m [age_factor]]\u001b[39m.\u001b[39msum()\n\u001b[1;32m      8\u001b[0m pink_cab_preferences_age \u001b[39m=\u001b[39m pink_cab_df\u001b[39m.\u001b[39mgroupby(\u001b[39m'\u001b[39m\u001b[39mCity\u001b[39m\u001b[39m'\u001b[39m)[gender_factors \u001b[39m+\u001b[39m [age_factor]]\n\u001b[1;32m      9\u001b[0m yellow_cab_preferences \u001b[39m=\u001b[39m yellow_cab_df\u001b[39m.\u001b[39mgroupby(\u001b[39m'\u001b[39m\u001b[39mCity\u001b[39m\u001b[39m'\u001b[39m)[gender_factors \u001b[39m+\u001b[39m payment_factors \u001b[39m+\u001b[39m [age_factor]]\u001b[39m.\u001b[39msum()\n",
      "\u001b[0;31mNameError\u001b[0m: name 'pink_cab_df' is not defined"
     ]
    }
   ],
   "source": [
    "# Define the factors to consider for customer preferences\n",
    "gender_factors = ['Gender_Male', 'Gender_Female']\n",
    "payment_factors = ['Payment_Mode_Card', 'Payment_Mode_Cash']\n",
    "age_factor = 'Age'\n",
    "\n",
    "# Customer preferences for each factor and cab company\n",
    "pink_cab_preferences = pink_cab_df.groupby('City')[gender_factors + payment_factors + [age_factor]].sum()\n",
    "pink_cab_preferences_age = pink_cab_df.groupby('City')[gender_factors + [age_factor]]\n",
    "yellow_cab_preferences = yellow_cab_df.groupby('City')[gender_factors + payment_factors + [age_factor]].sum()\n",
    "\n",
    "# Creating separate graphs for gender preferences, payment preferences, and age preferences for each cab company\n",
    "fig, axes = plt.subplots(nrows=3, ncols=2, figsize=(14, 14))\n",
    "\n",
    "# Gender Preferences\n",
    "pink_cab_preferences[gender_factors].plot(kind='bar', ax=axes[0, 0], title='Gender Preferences: Pink Cab')\n",
    "yellow_cab_preferences[gender_factors].plot(kind='bar', ax=axes[0, 1], title='Gender Preferences: Yellow Cab')\n",
    "\n",
    "# Payment Preferences\n",
    "pink_cab_preferences[payment_factors].plot(kind='bar', ax=axes[1, 0], title='Payment Preferences: Pink Cab')\n",
    "yellow_cab_preferences[payment_factors].plot(kind='bar', ax=axes[1, 1], title='Payment Preferences: Yellow Cab')\n",
    "\n",
    "# Age Preferences\n",
    "# pink_cab_preferences[age_factor].plot(kind='bar', ax=axes[2, 0], title='Age Preferences: Pink Cab')\n",
    "# yellow_cab_preferences[age_factor].plot(kind='bar', ax=axes[2, 1], title='Age Preferences: Yellow Cab')\n",
    "# pink_cab_preferences_age.plot(kind='bar', ax=axes[2, 0], title='Age Preferences: Pink Cab')\n",
    "yellow_cab_preferences[age_factor].plot(kind='bar', ax=axes[2, 1], title='Age Preferences: Yellow Cab')\n",
    "\n",
    "# Adjust the layout and spacing between subplots\n",
    "plt.tight_layout()\n",
    "\n",
    "# Show the plots\n",
    "plt.show()\n"
   ]
  },
  {
   "cell_type": "code",
   "execution_count": null,
   "metadata": {
    "is_executing": true
   },
   "outputs": [],
   "source": [
    "pink_cab_preferences_age = pink_cab_df.groupby('City')[gender_factors + [age_factor]]"
   ]
  },
  {
   "cell_type": "code",
   "execution_count": null,
   "metadata": {
    "is_executing": true
   },
   "outputs": [],
   "source": [
    "print(pink_cab_preferences_age.head())"
   ]
  },
  {
   "cell_type": "code",
   "execution_count": null,
   "metadata": {
    "is_executing": true
   },
   "outputs": [],
   "source": [
    "# Calculate profits per km for each trip\n",
    "combined_df['Profit per KM'] = (combined_df['Price Charged'] - combined_df['Cost of Trip']) / combined_df['KM Travelled']\n",
    "\n",
    "# Print the resulting dataframe with profits per km\n",
    "print(combined_df[['Company', 'City', 'KM Travelled', 'Price Charged', 'Cost of Trip', 'Profit per KM']])\n"
   ]
  },
  {
   "cell_type": "markdown",
   "metadata": {},
   "source": [
    "### 4. Profits per kilometer"
   ]
  },
  {
   "cell_type": "code",
   "execution_count": null,
   "metadata": {
    "is_executing": true
   },
   "outputs": [],
   "source": [
    "# Calculate profits per kilometer for each cab company\n",
    "combined_df['Profit per KM'] = (combined_df['Price Charged'] - combined_df['Cost of Trip']) / combined_df['KM Travelled']\n",
    "\n",
    "# Group the data by cab company and calculate the average profit per kilometer\n",
    "profits_per_km = combined_df.groupby('Company')['Profit per KM'].mean()\n",
    "\n",
    "# Create a bar graph to visualize the profits per kilometer for each cab company\n",
    "profits_per_km.plot(kind='bar', figsize=(12, 6))\n",
    "plt.xlabel('Cab Company')\n",
    "plt.ylabel('Profit per Kilometer (USD)')\n",
    "plt.title('Profits per Kilometer for Each Cab Company')\n",
    "plt.show()\n"
   ]
  },
  {
   "cell_type": "markdown",
   "metadata": {},
   "source": [
    "### 5. Demand for days of the week"
   ]
  },
  {
   "cell_type": "code",
   "execution_count": null,
   "metadata": {
    "is_executing": true
   },
   "outputs": [],
   "source": [
    "\n",
    "# Convert the \"Date of Travel\" column to datetime format\n",
    "combined_df['Date of Travel'] = pd.to_datetime(combined_df['Date of Travel'])\n",
    "\n",
    "# Extract the day of the week\n",
    "combined_df['Day of Week'] = combined_df['Date of Travel'].dt.day_name()\n",
    "\n",
    "# Group the data by cab company and day of the week, and calculate the total number of trips\n",
    "trips_per_day = combined_df.groupby(['Company', 'Day of Week']).size().unstack(level=1)\n",
    "\n",
    "# Create visualizations for each cab company to compare the productivity of each day and assess the impact of holidays\n",
    "cab_companies = combined_df['Company'].unique()\n",
    "\n",
    "for company in cab_companies:\n",
    "    trips_company = trips_per_day.loc[company]\n",
    "    holidays = ['Saturday', 'Sunday']  # Define the holidays\n",
    "\n",
    "    # Bar graph to compare the productivity of each day\n",
    "    trips_company.plot(kind='bar', figsize=(12, 6))\n",
    "    plt.xlabel('Day of Week')\n",
    "    plt.ylabel('Number of Trips')\n",
    "    plt.title(f'Productivity of Each Day for {company}')\n",
    "    plt.show()\n",
    "\n",
    "\n"
   ]
  },
  {
   "cell_type": "markdown",
   "metadata": {},
   "source": [
    "# Recommendation"
   ]
  },
  {
   "cell_type": "markdown",
   "metadata": {},
   "source": [
    "## After evaluating both the cab companies on following points and found Yellow cab better than Pink cab:\n",
    "- Market Share -> Yellow Cab has a higher market share of 76.4% throughout the whole cities as compared to 23.6% for Pink cab.\n",
    "- Customer Retention -> Customer retention is crucial for the long-term success of the cab company. In 2016, Pink Cab had a higher retention rate at 46.28% as compared to Yelow Cab at 26.37%. IN 2017, Pink cab increased its customer retnetion to 52.46% as compared to 35.56% fro Yellow Cab. In general, Pink Cab has had a better customer retention rate throughout its operation period.\n",
    "- Customer Segmentaion -> Yellow Cab is the most favoured in all cities except NASHVILLE TN, PITTSBURGH PA, SACRAMENTO CA, and SAN DIEGO CA where Pionk cab had an upper hand.\n",
    "- Customer Preferences -> Most customers prefer to pay with card as compared to cash payment. The female gender are the majority users of the cabs for both cabs however, more men preferred to use the Pink Cab as compared to Yellow cab."
   ]
  }
 ],
 "metadata": {
  "kernelspec": {
   "display_name": "Python 3 (ipykernel)",
   "language": "python",
   "name": "python3"
  },
  "language_info": {
   "codemirror_mode": {
    "name": "ipython",
    "version": 3
   },
   "file_extension": ".py",
   "mimetype": "text/x-python",
   "name": "python",
   "nbconvert_exporter": "python",
   "pygments_lexer": "ipython3",
   "version": "3.11.3"
  }
 },
 "nbformat": 4,
 "nbformat_minor": 2
}
