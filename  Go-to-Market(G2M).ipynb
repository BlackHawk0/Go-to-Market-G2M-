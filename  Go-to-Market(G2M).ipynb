{
 "cells": [
  {
   "cell_type": "code",
   "execution_count": 46,
   "metadata": {
    "ExecuteTime": {
     "end_time": "2023-07-10T12:48:51.234943682Z",
     "start_time": "2023-07-10T12:48:50.603586042Z"
    }
   },
   "outputs": [],
   "source": [
    "# libraries\n",
    "import pandas as pd\n",
    "import os\n",
    "from sklearn.preprocessing import OneHotEncoder, LabelEncoder\n",
    "import matplotlib.pyplot as plt\n",
    "%matplotlib inline\n"
   ]
  },
  {
   "cell_type": "code",
   "execution_count": 47,
   "metadata": {
    "ExecuteTime": {
     "end_time": "2023-07-10T12:48:52.335770720Z",
     "start_time": "2023-07-10T12:48:50.620570520Z"
    }
   },
   "outputs": [],
   "source": [
    "dir = os.getcwd()\n",
    "file_path = os.path.join(dir,\"DataSets-main\" )\n",
    "cab_df = pd.read_csv(file_path + \"/Cab_Data.csv\")\n",
    "city_df = pd.read_csv(file_path + \"/City.csv\")\n",
    "customer_df = pd.read_csv(file_path + \"/Customer_ID.csv\")\n",
    "transaction_df = pd.read_csv(file_path + \"/Transaction_ID.csv\")\n",
    "\n",
    "# change the date format to a more readable format\n",
    "cab_df['Date of Travel'] = pd.to_datetime(cab_df['Date of Travel'], origin='1899-12-30', unit='D')"
   ]
  },
  {
   "cell_type": "code",
   "execution_count": 48,
   "metadata": {
    "ExecuteTime": {
     "end_time": "2023-07-10T12:48:53.236789045Z",
     "start_time": "2023-07-10T12:48:52.644352049Z"
    }
   },
   "outputs": [
    {
     "name": "stdout",
     "output_type": "stream",
     "text": [
      "<class 'pandas.core.frame.DataFrame'>\n",
      "RangeIndex: 359392 entries, 0 to 359391\n",
      "Data columns (total 7 columns):\n",
      " #   Column          Non-Null Count   Dtype         \n",
      "---  ------          --------------   -----         \n",
      " 0   Transaction ID  359392 non-null  int64         \n",
      " 1   Date of Travel  359392 non-null  datetime64[ns]\n",
      " 2   Company         359392 non-null  object        \n",
      " 3   City            359392 non-null  object        \n",
      " 4   KM Travelled    359392 non-null  float64       \n",
      " 5   Price Charged   359392 non-null  float64       \n",
      " 6   Cost of Trip    359392 non-null  float64       \n",
      "dtypes: datetime64[ns](1), float64(3), int64(1), object(2)\n",
      "memory usage: 19.2+ MB\n",
      "Percentage of missing values\n"
     ]
    },
    {
     "data": {
      "text/plain": "Transaction ID    0.0\nDate of Travel    0.0\nCompany           0.0\nCity              0.0\nKM Travelled      0.0\nPrice Charged     0.0\nCost of Trip      0.0\ndtype: float64"
     },
     "execution_count": 48,
     "metadata": {},
     "output_type": "execute_result"
    }
   ],
   "source": [
    "# Get information of the cab dataframe\n",
    "cab_df.info()\n",
    "# Percentage of missing values\n",
    "print(\"Percentage of missing values\")\n",
    "cab_df.isnull().sum()/ len(cab_df)"
   ]
  },
  {
   "cell_type": "code",
   "execution_count": 49,
   "metadata": {
    "ExecuteTime": {
     "end_time": "2023-07-10T12:48:53.245872484Z",
     "start_time": "2023-07-10T12:48:53.147656130Z"
    }
   },
   "outputs": [
    {
     "data": {
      "text/plain": "             City   Population      Users\n0     NEW YORK NY   8,405,837    302,149 \n1      CHICAGO IL   1,955,130    164,468 \n2  LOS ANGELES CA   1,595,037    144,132 \n3        MIAMI FL   1,339,155     17,675 \n4  SILICON VALLEY   1,177,609     27,247 ",
      "text/html": "<div>\n<style scoped>\n    .dataframe tbody tr th:only-of-type {\n        vertical-align: middle;\n    }\n\n    .dataframe tbody tr th {\n        vertical-align: top;\n    }\n\n    .dataframe thead th {\n        text-align: right;\n    }\n</style>\n<table border=\"1\" class=\"dataframe\">\n  <thead>\n    <tr style=\"text-align: right;\">\n      <th></th>\n      <th>City</th>\n      <th>Population</th>\n      <th>Users</th>\n    </tr>\n  </thead>\n  <tbody>\n    <tr>\n      <th>0</th>\n      <td>NEW YORK NY</td>\n      <td>8,405,837</td>\n      <td>302,149</td>\n    </tr>\n    <tr>\n      <th>1</th>\n      <td>CHICAGO IL</td>\n      <td>1,955,130</td>\n      <td>164,468</td>\n    </tr>\n    <tr>\n      <th>2</th>\n      <td>LOS ANGELES CA</td>\n      <td>1,595,037</td>\n      <td>144,132</td>\n    </tr>\n    <tr>\n      <th>3</th>\n      <td>MIAMI FL</td>\n      <td>1,339,155</td>\n      <td>17,675</td>\n    </tr>\n    <tr>\n      <th>4</th>\n      <td>SILICON VALLEY</td>\n      <td>1,177,609</td>\n      <td>27,247</td>\n    </tr>\n  </tbody>\n</table>\n</div>"
     },
     "execution_count": 49,
     "metadata": {},
     "output_type": "execute_result"
    }
   ],
   "source": [
    "city_df.head()\n"
   ]
  },
  {
   "cell_type": "code",
   "execution_count": 50,
   "metadata": {
    "ExecuteTime": {
     "end_time": "2023-07-10T12:48:53.247487050Z",
     "start_time": "2023-07-10T12:48:53.211400600Z"
    }
   },
   "outputs": [
    {
     "name": "stdout",
     "output_type": "stream",
     "text": [
      "<class 'pandas.core.frame.DataFrame'>\n",
      "RangeIndex: 20 entries, 0 to 19\n",
      "Data columns (total 3 columns):\n",
      " #   Column      Non-Null Count  Dtype \n",
      "---  ------      --------------  ----- \n",
      " 0   City        20 non-null     object\n",
      " 1   Population  20 non-null     object\n",
      " 2   Users       20 non-null     object\n",
      "dtypes: object(3)\n",
      "memory usage: 612.0+ bytes\n"
     ]
    },
    {
     "data": {
      "text/plain": "City          0.0\nPopulation    0.0\nUsers         0.0\ndtype: float64"
     },
     "execution_count": 50,
     "metadata": {},
     "output_type": "execute_result"
    }
   ],
   "source": [
    "city_df.info()\n",
    "\n",
    "#Checking for null values\n",
    "city_df.isna().sum() / len(city_df)"
   ]
  },
  {
   "cell_type": "code",
   "execution_count": 51,
   "metadata": {
    "ExecuteTime": {
     "end_time": "2023-07-10T12:48:53.507049763Z",
     "start_time": "2023-07-10T12:48:53.238273412Z"
    }
   },
   "outputs": [
    {
     "data": {
      "text/plain": "   Customer ID Gender  Age  Income (USD/Month)\n0        29290   Male   28               10813\n1        27703   Male   27                9237\n2        28712   Male   53               11242\n3        28020   Male   23               23327\n4        27182   Male   33                8536",
      "text/html": "<div>\n<style scoped>\n    .dataframe tbody tr th:only-of-type {\n        vertical-align: middle;\n    }\n\n    .dataframe tbody tr th {\n        vertical-align: top;\n    }\n\n    .dataframe thead th {\n        text-align: right;\n    }\n</style>\n<table border=\"1\" class=\"dataframe\">\n  <thead>\n    <tr style=\"text-align: right;\">\n      <th></th>\n      <th>Customer ID</th>\n      <th>Gender</th>\n      <th>Age</th>\n      <th>Income (USD/Month)</th>\n    </tr>\n  </thead>\n  <tbody>\n    <tr>\n      <th>0</th>\n      <td>29290</td>\n      <td>Male</td>\n      <td>28</td>\n      <td>10813</td>\n    </tr>\n    <tr>\n      <th>1</th>\n      <td>27703</td>\n      <td>Male</td>\n      <td>27</td>\n      <td>9237</td>\n    </tr>\n    <tr>\n      <th>2</th>\n      <td>28712</td>\n      <td>Male</td>\n      <td>53</td>\n      <td>11242</td>\n    </tr>\n    <tr>\n      <th>3</th>\n      <td>28020</td>\n      <td>Male</td>\n      <td>23</td>\n      <td>23327</td>\n    </tr>\n    <tr>\n      <th>4</th>\n      <td>27182</td>\n      <td>Male</td>\n      <td>33</td>\n      <td>8536</td>\n    </tr>\n  </tbody>\n</table>\n</div>"
     },
     "execution_count": 51,
     "metadata": {},
     "output_type": "execute_result"
    }
   ],
   "source": [
    "customer_df.head()\n"
   ]
  },
  {
   "cell_type": "code",
   "execution_count": 52,
   "metadata": {
    "ExecuteTime": {
     "end_time": "2023-07-10T12:48:53.761833081Z",
     "start_time": "2023-07-10T12:48:53.328343753Z"
    }
   },
   "outputs": [
    {
     "name": "stdout",
     "output_type": "stream",
     "text": [
      "<class 'pandas.core.frame.DataFrame'>\n",
      "RangeIndex: 49171 entries, 0 to 49170\n",
      "Data columns (total 4 columns):\n",
      " #   Column              Non-Null Count  Dtype \n",
      "---  ------              --------------  ----- \n",
      " 0   Customer ID         49171 non-null  int64 \n",
      " 1   Gender              49171 non-null  object\n",
      " 2   Age                 49171 non-null  int64 \n",
      " 3   Income (USD/Month)  49171 non-null  int64 \n",
      "dtypes: int64(3), object(1)\n",
      "memory usage: 1.5+ MB\n"
     ]
    },
    {
     "data": {
      "text/plain": "Customer ID           0\nGender                0\nAge                   0\nIncome (USD/Month)    0\ndtype: int64"
     },
     "execution_count": 52,
     "metadata": {},
     "output_type": "execute_result"
    }
   ],
   "source": [
    "customer_df.info()\n",
    "\n",
    "customer_df.isnull().sum()"
   ]
  },
  {
   "cell_type": "code",
   "execution_count": 53,
   "metadata": {
    "ExecuteTime": {
     "end_time": "2023-07-10T12:48:53.764309648Z",
     "start_time": "2023-07-10T12:48:53.375698337Z"
    }
   },
   "outputs": [
    {
     "data": {
      "text/plain": "   Transaction ID  Customer ID Payment_Mode\n0        10000011        29290         Card\n1        10000012        27703         Card\n2        10000013        28712         Cash\n3        10000014        28020         Cash\n4        10000015        27182         Card",
      "text/html": "<div>\n<style scoped>\n    .dataframe tbody tr th:only-of-type {\n        vertical-align: middle;\n    }\n\n    .dataframe tbody tr th {\n        vertical-align: top;\n    }\n\n    .dataframe thead th {\n        text-align: right;\n    }\n</style>\n<table border=\"1\" class=\"dataframe\">\n  <thead>\n    <tr style=\"text-align: right;\">\n      <th></th>\n      <th>Transaction ID</th>\n      <th>Customer ID</th>\n      <th>Payment_Mode</th>\n    </tr>\n  </thead>\n  <tbody>\n    <tr>\n      <th>0</th>\n      <td>10000011</td>\n      <td>29290</td>\n      <td>Card</td>\n    </tr>\n    <tr>\n      <th>1</th>\n      <td>10000012</td>\n      <td>27703</td>\n      <td>Card</td>\n    </tr>\n    <tr>\n      <th>2</th>\n      <td>10000013</td>\n      <td>28712</td>\n      <td>Cash</td>\n    </tr>\n    <tr>\n      <th>3</th>\n      <td>10000014</td>\n      <td>28020</td>\n      <td>Cash</td>\n    </tr>\n    <tr>\n      <th>4</th>\n      <td>10000015</td>\n      <td>27182</td>\n      <td>Card</td>\n    </tr>\n  </tbody>\n</table>\n</div>"
     },
     "execution_count": 53,
     "metadata": {},
     "output_type": "execute_result"
    }
   ],
   "source": [
    "transaction_df.head()"
   ]
  },
  {
   "cell_type": "code",
   "execution_count": 54,
   "metadata": {
    "ExecuteTime": {
     "end_time": "2023-07-10T12:48:54.312985280Z",
     "start_time": "2023-07-10T12:48:53.666030739Z"
    }
   },
   "outputs": [
    {
     "name": "stdout",
     "output_type": "stream",
     "text": [
      "<class 'pandas.core.frame.DataFrame'>\n",
      "RangeIndex: 440098 entries, 0 to 440097\n",
      "Data columns (total 3 columns):\n",
      " #   Column          Non-Null Count   Dtype \n",
      "---  ------          --------------   ----- \n",
      " 0   Transaction ID  440098 non-null  int64 \n",
      " 1   Customer ID     440098 non-null  int64 \n",
      " 2   Payment_Mode    440098 non-null  object\n",
      "dtypes: int64(2), object(1)\n",
      "memory usage: 10.1+ MB\n"
     ]
    },
    {
     "data": {
      "text/plain": "Transaction ID    0\nCustomer ID       0\nPayment_Mode      0\ndtype: int64"
     },
     "execution_count": 54,
     "metadata": {},
     "output_type": "execute_result"
    }
   ],
   "source": [
    "transaction_df.info()\n",
    "\n",
    "transaction_df.isnull().sum()"
   ]
  },
  {
   "cell_type": "markdown",
   "metadata": {},
   "source": [
    "## Combining the datasets to one dataframe"
   ]
  },
  {
   "cell_type": "code",
   "execution_count": 55,
   "metadata": {
    "ExecuteTime": {
     "end_time": "2023-07-10T12:48:54.636163425Z",
     "start_time": "2023-07-10T12:48:53.940887332Z"
    }
   },
   "outputs": [
    {
     "data": {
      "text/plain": "   Customer ID Gender  Age  Income (USD/Month)  Transaction ID Payment_Mode\n0        29290   Male   28               10813        10000011         Card\n1        29290   Male   28               10813        10351127         Cash\n2        29290   Male   28               10813        10412921         Card\n3        27703   Male   27                9237        10000012         Card\n4        27703   Male   27                9237        10320494         Card",
      "text/html": "<div>\n<style scoped>\n    .dataframe tbody tr th:only-of-type {\n        vertical-align: middle;\n    }\n\n    .dataframe tbody tr th {\n        vertical-align: top;\n    }\n\n    .dataframe thead th {\n        text-align: right;\n    }\n</style>\n<table border=\"1\" class=\"dataframe\">\n  <thead>\n    <tr style=\"text-align: right;\">\n      <th></th>\n      <th>Customer ID</th>\n      <th>Gender</th>\n      <th>Age</th>\n      <th>Income (USD/Month)</th>\n      <th>Transaction ID</th>\n      <th>Payment_Mode</th>\n    </tr>\n  </thead>\n  <tbody>\n    <tr>\n      <th>0</th>\n      <td>29290</td>\n      <td>Male</td>\n      <td>28</td>\n      <td>10813</td>\n      <td>10000011</td>\n      <td>Card</td>\n    </tr>\n    <tr>\n      <th>1</th>\n      <td>29290</td>\n      <td>Male</td>\n      <td>28</td>\n      <td>10813</td>\n      <td>10351127</td>\n      <td>Cash</td>\n    </tr>\n    <tr>\n      <th>2</th>\n      <td>29290</td>\n      <td>Male</td>\n      <td>28</td>\n      <td>10813</td>\n      <td>10412921</td>\n      <td>Card</td>\n    </tr>\n    <tr>\n      <th>3</th>\n      <td>27703</td>\n      <td>Male</td>\n      <td>27</td>\n      <td>9237</td>\n      <td>10000012</td>\n      <td>Card</td>\n    </tr>\n    <tr>\n      <th>4</th>\n      <td>27703</td>\n      <td>Male</td>\n      <td>27</td>\n      <td>9237</td>\n      <td>10320494</td>\n      <td>Card</td>\n    </tr>\n  </tbody>\n</table>\n</div>"
     },
     "execution_count": 55,
     "metadata": {},
     "output_type": "execute_result"
    }
   ],
   "source": [
    "# Customer information\n",
    "customer_info = pd.merge(customer_df, transaction_df)\n",
    "customer_info.head()\n"
   ]
  },
  {
   "cell_type": "code",
   "execution_count": 56,
   "metadata": {
    "ExecuteTime": {
     "end_time": "2023-07-10T12:48:54.811051223Z",
     "start_time": "2023-07-10T12:48:54.287856583Z"
    }
   },
   "outputs": [
    {
     "data": {
      "text/plain": "   Transaction ID Date of Travel   Company        City  KM Travelled  \\\n0        10000011     2016-01-08  Pink Cab  ATLANTA GA         30.45   \n1        10000012     2016-01-06  Pink Cab  ATLANTA GA         28.62   \n2        10000013     2016-01-02  Pink Cab  ATLANTA GA          9.04   \n3        10000014     2016-01-07  Pink Cab  ATLANTA GA         33.17   \n4        10000015     2016-01-03  Pink Cab  ATLANTA GA          8.73   \n\n   Price Charged  Cost of Trip Population     Users  \n0         370.95       313.635   814,885    24,701   \n1         358.52       334.854   814,885    24,701   \n2         125.20        97.632   814,885    24,701   \n3         377.40       351.602   814,885    24,701   \n4         114.62        97.776   814,885    24,701   ",
      "text/html": "<div>\n<style scoped>\n    .dataframe tbody tr th:only-of-type {\n        vertical-align: middle;\n    }\n\n    .dataframe tbody tr th {\n        vertical-align: top;\n    }\n\n    .dataframe thead th {\n        text-align: right;\n    }\n</style>\n<table border=\"1\" class=\"dataframe\">\n  <thead>\n    <tr style=\"text-align: right;\">\n      <th></th>\n      <th>Transaction ID</th>\n      <th>Date of Travel</th>\n      <th>Company</th>\n      <th>City</th>\n      <th>KM Travelled</th>\n      <th>Price Charged</th>\n      <th>Cost of Trip</th>\n      <th>Population</th>\n      <th>Users</th>\n    </tr>\n  </thead>\n  <tbody>\n    <tr>\n      <th>0</th>\n      <td>10000011</td>\n      <td>2016-01-08</td>\n      <td>Pink Cab</td>\n      <td>ATLANTA GA</td>\n      <td>30.45</td>\n      <td>370.95</td>\n      <td>313.635</td>\n      <td>814,885</td>\n      <td>24,701</td>\n    </tr>\n    <tr>\n      <th>1</th>\n      <td>10000012</td>\n      <td>2016-01-06</td>\n      <td>Pink Cab</td>\n      <td>ATLANTA GA</td>\n      <td>28.62</td>\n      <td>358.52</td>\n      <td>334.854</td>\n      <td>814,885</td>\n      <td>24,701</td>\n    </tr>\n    <tr>\n      <th>2</th>\n      <td>10000013</td>\n      <td>2016-01-02</td>\n      <td>Pink Cab</td>\n      <td>ATLANTA GA</td>\n      <td>9.04</td>\n      <td>125.20</td>\n      <td>97.632</td>\n      <td>814,885</td>\n      <td>24,701</td>\n    </tr>\n    <tr>\n      <th>3</th>\n      <td>10000014</td>\n      <td>2016-01-07</td>\n      <td>Pink Cab</td>\n      <td>ATLANTA GA</td>\n      <td>33.17</td>\n      <td>377.40</td>\n      <td>351.602</td>\n      <td>814,885</td>\n      <td>24,701</td>\n    </tr>\n    <tr>\n      <th>4</th>\n      <td>10000015</td>\n      <td>2016-01-03</td>\n      <td>Pink Cab</td>\n      <td>ATLANTA GA</td>\n      <td>8.73</td>\n      <td>114.62</td>\n      <td>97.776</td>\n      <td>814,885</td>\n      <td>24,701</td>\n    </tr>\n  </tbody>\n</table>\n</div>"
     },
     "execution_count": 56,
     "metadata": {},
     "output_type": "execute_result"
    }
   ],
   "source": [
    "# Cab information\n",
    "cab_info = pd.merge(cab_df, city_df)\n",
    "cab_info.head()"
   ]
  },
  {
   "cell_type": "code",
   "execution_count": 57,
   "metadata": {
    "ExecuteTime": {
     "end_time": "2023-07-10T12:48:54.871354180Z",
     "start_time": "2023-07-10T12:48:54.474774136Z"
    }
   },
   "outputs": [
    {
     "data": {
      "text/plain": "Index(['Customer ID', 'Gender', 'Age', 'Income (USD/Month)', 'Transaction ID',\n       'Payment_Mode'],\n      dtype='object')"
     },
     "execution_count": 57,
     "metadata": {},
     "output_type": "execute_result"
    }
   ],
   "source": [
    "customer_info.columns"
   ]
  },
  {
   "cell_type": "code",
   "execution_count": 58,
   "metadata": {
    "ExecuteTime": {
     "end_time": "2023-07-10T12:48:54.872515871Z",
     "start_time": "2023-07-10T12:48:54.528104224Z"
    }
   },
   "outputs": [
    {
     "name": "stdout",
     "output_type": "stream",
     "text": [
      "Shape for cab: (359392, 7), customer : (49171, 4), City: (20, 3), transaction: (440098, 3)\n"
     ]
    }
   ],
   "source": [
    "#print the shapes of the initial dataframes\n",
    "print(f\"Shape for cab: {cab_df.shape}, customer : {customer_df.shape}, City: {city_df.shape}, transaction: {transaction_df.shape}\")"
   ]
  },
  {
   "cell_type": "code",
   "execution_count": 59,
   "metadata": {
    "ExecuteTime": {
     "end_time": "2023-07-10T12:49:06.836734175Z",
     "start_time": "2023-07-10T12:48:54.529456962Z"
    }
   },
   "outputs": [],
   "source": [
    "customer_info.to_csv(\"customer_information.csv\")\n",
    "cab_info.to_csv(\"cab_information.csv\")"
   ]
  },
  {
   "cell_type": "code",
   "execution_count": 60,
   "metadata": {
    "ExecuteTime": {
     "end_time": "2023-07-10T12:49:07.837840453Z",
     "start_time": "2023-07-10T12:49:06.853843864Z"
    }
   },
   "outputs": [
    {
     "data": {
      "text/plain": "   Gender_Male  Gender_Female  Payment_Mode_Card  Payment_Mode_Cash\n0          0.0            1.0                1.0                0.0\n1          0.0            1.0                0.0                1.0\n2          0.0            1.0                1.0                0.0\n3          0.0            1.0                1.0                0.0\n4          0.0            1.0                1.0                0.0",
      "text/html": "<div>\n<style scoped>\n    .dataframe tbody tr th:only-of-type {\n        vertical-align: middle;\n    }\n\n    .dataframe tbody tr th {\n        vertical-align: top;\n    }\n\n    .dataframe thead th {\n        text-align: right;\n    }\n</style>\n<table border=\"1\" class=\"dataframe\">\n  <thead>\n    <tr style=\"text-align: right;\">\n      <th></th>\n      <th>Gender_Male</th>\n      <th>Gender_Female</th>\n      <th>Payment_Mode_Card</th>\n      <th>Payment_Mode_Cash</th>\n    </tr>\n  </thead>\n  <tbody>\n    <tr>\n      <th>0</th>\n      <td>0.0</td>\n      <td>1.0</td>\n      <td>1.0</td>\n      <td>0.0</td>\n    </tr>\n    <tr>\n      <th>1</th>\n      <td>0.0</td>\n      <td>1.0</td>\n      <td>0.0</td>\n      <td>1.0</td>\n    </tr>\n    <tr>\n      <th>2</th>\n      <td>0.0</td>\n      <td>1.0</td>\n      <td>1.0</td>\n      <td>0.0</td>\n    </tr>\n    <tr>\n      <th>3</th>\n      <td>0.0</td>\n      <td>1.0</td>\n      <td>1.0</td>\n      <td>0.0</td>\n    </tr>\n    <tr>\n      <th>4</th>\n      <td>0.0</td>\n      <td>1.0</td>\n      <td>1.0</td>\n      <td>0.0</td>\n    </tr>\n  </tbody>\n</table>\n</div>"
     },
     "execution_count": 60,
     "metadata": {},
     "output_type": "execute_result"
    }
   ],
   "source": [
    "# Select the columns to be encoded\n",
    "target_columns = customer_info[['Gender', 'Payment_Mode']]\n",
    "\n",
    "# Perform label encoding\n",
    "label_encoder = LabelEncoder()\n",
    "label_encoded = target_columns.apply(label_encoder.fit_transform)\n",
    "\n",
    "# Perform one-hot encoding\n",
    "one_hot_encoder = OneHotEncoder()\n",
    "one_hot_encoded = one_hot_encoder.fit_transform(label_encoded)\n",
    "\n",
    "# Get the feature names\n",
    "encoded_feature_names = []\n",
    "for col in target_columns.columns:\n",
    "    # Getting the unique categorical values in the target columns\n",
    "    unique_values = target_columns[col].unique()\n",
    "    for value in unique_values:\n",
    "        encoded_feature_names.append(f\"{col}_{value}\")\n",
    "\n",
    "# create a dataframe of the one-hot encoded columns\n",
    "one_hot_encoded_df = pd.DataFrame(one_hot_encoded.toarray(), columns=encoded_feature_names)\n",
    "\n",
    "# Concatenate the customer dataframe with the one-hot encoded columns\n",
    "customer_info_encoded = pd.concat([customer_info.drop(target_columns, axis=1), one_hot_encoded_df], axis=1)\n",
    "\n",
    "one_hot_encoded_df.head()\n"
   ]
  },
  {
   "cell_type": "markdown",
   "metadata": {},
   "source": [
    "## Understanding the relationships between the data"
   ]
  },
  {
   "cell_type": "code",
   "execution_count": 61,
   "outputs": [
    {
     "data": {
      "text/plain": "   Customer ID  Age  Income (USD/Month)  Transaction ID  Gender_Male  \\\n0        29290   28               10813        10000011          0.0   \n1        29290   28               10813        10351127          0.0   \n2        29290   28               10813        10412921          0.0   \n3        27703   27                9237        10000012          0.0   \n4        27703   27                9237        10320494          0.0   \n\n   Gender_Female  Payment_Mode_Card  Payment_Mode_Cash Date of Travel  \\\n0            1.0                1.0                0.0     2016-01-08   \n1            1.0                0.0                1.0     2018-07-21   \n2            1.0                1.0                0.0     2018-11-23   \n3            1.0                1.0                0.0     2016-01-06   \n4            1.0                1.0                0.0     2018-04-21   \n\n      Company        City  KM Travelled  Price Charged  Cost of Trip  \\\n0    Pink Cab  ATLANTA GA         30.45         370.95      313.6350   \n1  Yellow Cab  ATLANTA GA         26.19         598.70      317.4228   \n2  Yellow Cab  ATLANTA GA         42.55         792.05      597.4020   \n3    Pink Cab  ATLANTA GA         28.62         358.52      334.8540   \n4  Yellow Cab  ATLANTA GA         36.38         721.10      467.1192   \n\n  Population     Users  \n0   814,885    24,701   \n1   814,885    24,701   \n2   814,885    24,701   \n3   814,885    24,701   \n4   814,885    24,701   ",
      "text/html": "<div>\n<style scoped>\n    .dataframe tbody tr th:only-of-type {\n        vertical-align: middle;\n    }\n\n    .dataframe tbody tr th {\n        vertical-align: top;\n    }\n\n    .dataframe thead th {\n        text-align: right;\n    }\n</style>\n<table border=\"1\" class=\"dataframe\">\n  <thead>\n    <tr style=\"text-align: right;\">\n      <th></th>\n      <th>Customer ID</th>\n      <th>Age</th>\n      <th>Income (USD/Month)</th>\n      <th>Transaction ID</th>\n      <th>Gender_Male</th>\n      <th>Gender_Female</th>\n      <th>Payment_Mode_Card</th>\n      <th>Payment_Mode_Cash</th>\n      <th>Date of Travel</th>\n      <th>Company</th>\n      <th>City</th>\n      <th>KM Travelled</th>\n      <th>Price Charged</th>\n      <th>Cost of Trip</th>\n      <th>Population</th>\n      <th>Users</th>\n    </tr>\n  </thead>\n  <tbody>\n    <tr>\n      <th>0</th>\n      <td>29290</td>\n      <td>28</td>\n      <td>10813</td>\n      <td>10000011</td>\n      <td>0.0</td>\n      <td>1.0</td>\n      <td>1.0</td>\n      <td>0.0</td>\n      <td>2016-01-08</td>\n      <td>Pink Cab</td>\n      <td>ATLANTA GA</td>\n      <td>30.45</td>\n      <td>370.95</td>\n      <td>313.6350</td>\n      <td>814,885</td>\n      <td>24,701</td>\n    </tr>\n    <tr>\n      <th>1</th>\n      <td>29290</td>\n      <td>28</td>\n      <td>10813</td>\n      <td>10351127</td>\n      <td>0.0</td>\n      <td>1.0</td>\n      <td>0.0</td>\n      <td>1.0</td>\n      <td>2018-07-21</td>\n      <td>Yellow Cab</td>\n      <td>ATLANTA GA</td>\n      <td>26.19</td>\n      <td>598.70</td>\n      <td>317.4228</td>\n      <td>814,885</td>\n      <td>24,701</td>\n    </tr>\n    <tr>\n      <th>2</th>\n      <td>29290</td>\n      <td>28</td>\n      <td>10813</td>\n      <td>10412921</td>\n      <td>0.0</td>\n      <td>1.0</td>\n      <td>1.0</td>\n      <td>0.0</td>\n      <td>2018-11-23</td>\n      <td>Yellow Cab</td>\n      <td>ATLANTA GA</td>\n      <td>42.55</td>\n      <td>792.05</td>\n      <td>597.4020</td>\n      <td>814,885</td>\n      <td>24,701</td>\n    </tr>\n    <tr>\n      <th>3</th>\n      <td>27703</td>\n      <td>27</td>\n      <td>9237</td>\n      <td>10000012</td>\n      <td>0.0</td>\n      <td>1.0</td>\n      <td>1.0</td>\n      <td>0.0</td>\n      <td>2016-01-06</td>\n      <td>Pink Cab</td>\n      <td>ATLANTA GA</td>\n      <td>28.62</td>\n      <td>358.52</td>\n      <td>334.8540</td>\n      <td>814,885</td>\n      <td>24,701</td>\n    </tr>\n    <tr>\n      <th>4</th>\n      <td>27703</td>\n      <td>27</td>\n      <td>9237</td>\n      <td>10320494</td>\n      <td>0.0</td>\n      <td>1.0</td>\n      <td>1.0</td>\n      <td>0.0</td>\n      <td>2018-04-21</td>\n      <td>Yellow Cab</td>\n      <td>ATLANTA GA</td>\n      <td>36.38</td>\n      <td>721.10</td>\n      <td>467.1192</td>\n      <td>814,885</td>\n      <td>24,701</td>\n    </tr>\n  </tbody>\n</table>\n</div>"
     },
     "execution_count": 61,
     "metadata": {},
     "output_type": "execute_result"
    }
   ],
   "source": [
    "# combined data ---> Actionable data. It contains data of customers that have used the cab between 31/01/2016 to 31/12/2018\n",
    "combined_df = customer_info_encoded.merge(cab_info, on='Transaction ID')\n",
    "combined_df.to_csv(\"combined_df.csv\")\n",
    "combined_df.head()"
   ],
   "metadata": {
    "collapsed": false,
    "ExecuteTime": {
     "end_time": "2023-07-10T12:49:18.404858811Z",
     "start_time": "2023-07-10T12:49:07.843296882Z"
    }
   }
  },
  {
   "cell_type": "code",
   "execution_count": 62,
   "outputs": [
    {
     "data": {
      "text/plain": "Index(['Customer ID', 'Age', 'Income (USD/Month)', 'Transaction ID',\n       'Gender_Male', 'Gender_Female', 'Payment_Mode_Card',\n       'Payment_Mode_Cash', 'Date of Travel', 'Company', 'City',\n       'KM Travelled', 'Price Charged', 'Cost of Trip', 'Population', 'Users'],\n      dtype='object')"
     },
     "execution_count": 62,
     "metadata": {},
     "output_type": "execute_result"
    }
   ],
   "source": [
    "# Market share\n",
    "combined_df['Company'].unique()\n",
    "combined_df.columns"
   ],
   "metadata": {
    "collapsed": false,
    "ExecuteTime": {
     "end_time": "2023-07-10T12:49:18.569118482Z",
     "start_time": "2023-07-10T12:49:18.391879199Z"
    }
   }
  },
  {
   "cell_type": "markdown",
   "source": [
    "### 1. Market share for each company\n",
    "   -  It shows the level of acceptance or popularity of the cabs in the market.\n",
    "   - The market share of each company is calculated by comparing the total number of trips made by each company to the total number of trips in the market"
   ],
   "metadata": {
    "collapsed": false
   }
  },
  {
   "cell_type": "code",
   "execution_count": 63,
   "outputs": [
    {
     "data": {
      "text/plain": "<Figure size 640x480 with 1 Axes>",
      "image/png": "[encoded data removed]"
     },
     "metadata": {},
     "output_type": "display_data"
    }
   ],
   "source": [
    "# Filter the dataframe based on Company\n",
    "pink_cab_df = combined_df[(combined_df['Company'] == 'Pink Cab')]\n",
    "yellow_cab_df = combined_df[(combined_df['Company'] == 'Yellow Cab')]\n",
    "\n",
    "# Total number of trips for each company\n",
    "pink_cab_trips = pink_cab_df.shape[0]\n",
    "yellow_cab_trips = yellow_cab_df.shape[0]\n",
    "\n",
    "# Total number of trips in the market\n",
    "total_trips = combined_df.shape[0]\n",
    "\n",
    "# Market share for each company\n",
    "pink_cab_market_share = pink_cab_trips / total_trips * 100\n",
    "yellow_cab_market_share = yellow_cab_trips / total_trips * 100\n",
    "\n",
    "# Pie chart to visualize the market share\n",
    "labels = ['Pink Cab', 'Yellow Cab']\n",
    "sizes = [pink_cab_market_share, yellow_cab_market_share]\n",
    "colors = ['r', 'b']\n",
    "explode = (0.1, 0)\n",
    "\n",
    "plt.pie(sizes, explode=explode, labels=labels, colors=colors,\n",
    "        autopct='%1.1f%%', startangle=90)\n",
    "plt.axis('equal')\n",
    "plt.title('Market Share: Pink Cab vs. Yellow Cab')\n",
    "plt.show()"
   ],
   "metadata": {
    "collapsed": false,
    "ExecuteTime": {
     "end_time": "2023-07-10T12:49:19.110854283Z",
     "start_time": "2023-07-10T12:49:18.439262092Z"
    }
   }
  },
  {
   "cell_type": "markdown",
   "source": [
    "### 13. Customer Retention\n",
    "   -  Customer retention is crucial for the long-term success of a cab company."
   ],
   "metadata": {
    "collapsed": false
   }
  },
  {
   "cell_type": "code",
   "execution_count": 78,
   "outputs": [
    {
     "name": "stdout",
     "output_type": "stream",
     "text": [
      "Retention Rates for Year 2016:\n",
      "Pink Cab: 46.28%\n",
      "Yellow Cab: 26.37%\n",
      "\n",
      "Retention Rates for Year 2017:\n",
      "Pink Cab: 52.46%\n",
      "Yellow Cab: 35.56%\n",
      "\n"
     ]
    }
   ],
   "source": [
    "# Determine the time frames within the specified time period\n",
    "start_date = '2016-01-31'\n",
    "end_date = '2018-12-31'\n",
    "time_frames = pd.date_range(start=start_date, end=end_date, freq='Y')\n",
    "\n",
    "# Calculate the customer retention rate for each company for each time frame\n",
    "retention_rates_pink_cab = []\n",
    "retention_rates_yellow_cab = []\n",
    "\n",
    "for i in range(len(time_frames) - 1):\n",
    "    start_date = time_frames[i].strftime('%Y-%m-%d')\n",
    "    end_date = time_frames[i+1].strftime('%Y-%m-%d')\n",
    "\n",
    "    #determine the start amd end customers of tje pink cab\n",
    "    pink_cab_start_customers = len(pink_cab_df[pink_cab_df['Date of Travel'] <= start_date]['Customer ID'].unique())\n",
    "    pink_cab_end_customers = len(pink_cab_df[pink_cab_df['Date of Travel'] <= end_date]['Customer ID'].unique())\n",
    "\n",
    "    # determine the new customers throughout the year\n",
    "    pink_cab_new_customers = len(pink_cab_df[(pink_cab_df['Date of Travel'] >= start_date) & (pink_cab_df['Date of Travel'] <= end_date)]['Customer ID'].unique())\n",
    "\n",
    "    # determine the start and end customers pf tje pink cab\n",
    "    yellow_cab_start_customers = len(yellow_cab_df[yellow_cab_df['Date of Travel'] <= start_date]['Customer ID'].unique())\n",
    "    yellow_cab_end_customers = len(yellow_cab_df[yellow_cab_df['Date of Travel'] <= end_date]['Customer ID'].unique())\n",
    "\n",
    "    # determine the new customers throughout the year\n",
    "    yellow_cab_new_customers = len(yellow_cab_df[(yellow_cab_df['Date of Travel'] >= start_date) & (yellow_cab_df['Date of Travel'] <= end_date)]['Customer ID'].unique())\n",
    "\n",
    "    # calculating the retention rate\n",
    "    pink_cab_retention_rate = (pink_cab_end_customers - pink_cab_new_customers) / pink_cab_start_customers * 100\n",
    "    yellow_cab_retention_rate = (yellow_cab_end_customers - yellow_cab_new_customers) / yellow_cab_start_customers * 100\n",
    "\n",
    "    retention_rates_pink_cab.append(pink_cab_retention_rate)\n",
    "    retention_rates_yellow_cab.append(yellow_cab_retention_rate)\n",
    "\n",
    "\n",
    "for i in range(len(time_frames) - 1):\n",
    "    year = time_frames[i].year\n",
    "    pink_cab_rate = retention_rates_pink_cab[i]\n",
    "    yellow_cab_rate = retention_rates_yellow_cab[i]\n",
    "\n",
    "    print(f\"Retention Rates for Year {year}:\")\n",
    "    print(\"Pink Cab: {:.2f}%\".format(pink_cab_rate))\n",
    "    print(\"Yellow Cab: {:.2f}%\".format(yellow_cab_rate))\n",
    "    print()\n"
   ],
   "metadata": {
    "collapsed": false,
    "ExecuteTime": {
     "end_time": "2023-07-10T13:09:35.617603646Z",
     "start_time": "2023-07-10T13:09:35.124669629Z"
    }
   }
  },
  {
   "cell_type": "code",
   "execution_count": 79,
   "outputs": [
    {
     "data": {
      "text/plain": "<Figure size 640x480 with 1 Axes>",
      "image/png": "[encoded data removed]"
     },
     "metadata": {},
     "output_type": "display_data"
    }
   ],
   "source": [
    "# Plotting retention rates for Pink Cab\n",
    "plt.plot(time_frames[:-1], retention_rates_pink_cab, marker='o', label='Pink Cab')\n",
    "\n",
    "# Plotting retention rates for Yellow Cab\n",
    "plt.plot(time_frames[:-1], retention_rates_yellow_cab, marker='o', label='Yellow Cab')\n",
    "\n",
    "# Set title and labels\n",
    "plt.title('Customer Retention Rates Over Time')\n",
    "plt.xlabel('Year')\n",
    "plt.ylabel('Retention Rate (%)')\n",
    "\n",
    "# Set x-axis tick labels\n",
    "plt.xticks(time_frames[:-1], [str(year) for year in time_frames[:-1].year], rotation=45)\n",
    "\n",
    "# Add legend\n",
    "plt.legend()\n",
    "\n",
    "# Display the plot\n",
    "plt.show()\n"
   ],
   "metadata": {
    "collapsed": false,
    "ExecuteTime": {
     "end_time": "2023-07-10T13:10:07.764868414Z",
     "start_time": "2023-07-10T13:10:06.919151022Z"
    }
   }
  }
 ],
 "metadata": {
  "kernelspec": {
   "display_name": "Python 3 (ipykernel)",
   "language": "python",
   "name": "python3"
  },
  "language_info": {
   "codemirror_mode": {
    "name": "ipython",
    "version": 3
   },
   "file_extension": ".py",
   "mimetype": "text/x-python",
   "name": "python",
   "nbconvert_exporter": "python",
   "pygments_lexer": "ipython3",
   "version": "3.11.3"
  }
 },
 "nbformat": 4,
 "nbformat_minor": 2
}
