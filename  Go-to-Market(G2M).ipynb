{
 "cells": [
  {
   "cell_type": "code",
   "execution_count": 1,
   "metadata": {
    "ExecuteTime": {
     "end_time": "2023-07-10T06:22:15.292313982Z",
     "start_time": "2023-07-10T06:22:12.021963291Z"
    }
   },
   "outputs": [],
   "source": [
    "# libraries\n",
    "import pandas as pd\n",
    "import os\n",
    "from sklearn.preprocessing import OneHotEncoder, LabelEncoder\n"
   ]
  },
  {
   "cell_type": "code",
   "execution_count": 2,
   "metadata": {
    "ExecuteTime": {
     "end_time": "2023-07-10T06:22:17.976487534Z",
     "start_time": "2023-07-10T06:22:15.221129432Z"
    }
   },
   "outputs": [
    {
     "data": {
      "text/plain": "   Transaction ID  Date of Travel   Company        City  KM Travelled  \\\n0        10000011           42377  Pink Cab  ATLANTA GA         30.45   \n1        10000012           42375  Pink Cab  ATLANTA GA         28.62   \n2        10000013           42371  Pink Cab  ATLANTA GA          9.04   \n3        10000014           42376  Pink Cab  ATLANTA GA         33.17   \n4        10000015           42372  Pink Cab  ATLANTA GA          8.73   \n\n   Price Charged  Cost of Trip  \n0         370.95       313.635  \n1         358.52       334.854  \n2         125.20        97.632  \n3         377.40       351.602  \n4         114.62        97.776  ",
      "text/html": "<div>\n<style scoped>\n    .dataframe tbody tr th:only-of-type {\n        vertical-align: middle;\n    }\n\n    .dataframe tbody tr th {\n        vertical-align: top;\n    }\n\n    .dataframe thead th {\n        text-align: right;\n    }\n</style>\n<table border=\"1\" class=\"dataframe\">\n  <thead>\n    <tr style=\"text-align: right;\">\n      <th></th>\n      <th>Transaction ID</th>\n      <th>Date of Travel</th>\n      <th>Company</th>\n      <th>City</th>\n      <th>KM Travelled</th>\n      <th>Price Charged</th>\n      <th>Cost of Trip</th>\n    </tr>\n  </thead>\n  <tbody>\n    <tr>\n      <th>0</th>\n      <td>10000011</td>\n      <td>42377</td>\n      <td>Pink Cab</td>\n      <td>ATLANTA GA</td>\n      <td>30.45</td>\n      <td>370.95</td>\n      <td>313.635</td>\n    </tr>\n    <tr>\n      <th>1</th>\n      <td>10000012</td>\n      <td>42375</td>\n      <td>Pink Cab</td>\n      <td>ATLANTA GA</td>\n      <td>28.62</td>\n      <td>358.52</td>\n      <td>334.854</td>\n    </tr>\n    <tr>\n      <th>2</th>\n      <td>10000013</td>\n      <td>42371</td>\n      <td>Pink Cab</td>\n      <td>ATLANTA GA</td>\n      <td>9.04</td>\n      <td>125.20</td>\n      <td>97.632</td>\n    </tr>\n    <tr>\n      <th>3</th>\n      <td>10000014</td>\n      <td>42376</td>\n      <td>Pink Cab</td>\n      <td>ATLANTA GA</td>\n      <td>33.17</td>\n      <td>377.40</td>\n      <td>351.602</td>\n    </tr>\n    <tr>\n      <th>4</th>\n      <td>10000015</td>\n      <td>42372</td>\n      <td>Pink Cab</td>\n      <td>ATLANTA GA</td>\n      <td>8.73</td>\n      <td>114.62</td>\n      <td>97.776</td>\n    </tr>\n  </tbody>\n</table>\n</div>"
     },
     "execution_count": 2,
     "metadata": {},
     "output_type": "execute_result"
    }
   ],
   "source": [
    "dir = os.getcwd()\n",
    "file_path = os.path.join(dir,\"DataSets-main\" )\n",
    "cab_df = pd.read_csv(file_path + \"/Cab_Data.csv\")\n",
    "city_df = pd.read_csv(file_path + \"/City.csv\")\n",
    "customer_df = pd.read_csv(file_path + \"/Customer_ID.csv\")\n",
    "transaction_df = pd.read_csv(file_path + \"/Transaction_ID.csv\")\n",
    "\n",
    "\n",
    "cab_df.head()"
   ]
  },
  {
   "cell_type": "code",
   "execution_count": 3,
   "metadata": {
    "ExecuteTime": {
     "end_time": "2023-07-10T06:22:19.182293434Z",
     "start_time": "2023-07-10T06:22:17.679360487Z"
    }
   },
   "outputs": [
    {
     "name": "stdout",
     "output_type": "stream",
     "text": [
      "<class 'pandas.core.frame.DataFrame'>\n",
      "RangeIndex: 359392 entries, 0 to 359391\n",
      "Data columns (total 7 columns):\n",
      " #   Column          Non-Null Count   Dtype  \n",
      "---  ------          --------------   -----  \n",
      " 0   Transaction ID  359392 non-null  int64  \n",
      " 1   Date of Travel  359392 non-null  int64  \n",
      " 2   Company         359392 non-null  object \n",
      " 3   City            359392 non-null  object \n",
      " 4   KM Travelled    359392 non-null  float64\n",
      " 5   Price Charged   359392 non-null  float64\n",
      " 6   Cost of Trip    359392 non-null  float64\n",
      "dtypes: float64(3), int64(2), object(2)\n",
      "memory usage: 19.2+ MB\n",
      "Percentage of missing values\n"
     ]
    },
    {
     "data": {
      "text/plain": "Transaction ID    0.0\nDate of Travel    0.0\nCompany           0.0\nCity              0.0\nKM Travelled      0.0\nPrice Charged     0.0\nCost of Trip      0.0\ndtype: float64"
     },
     "execution_count": 3,
     "metadata": {},
     "output_type": "execute_result"
    }
   ],
   "source": [
    "# Get information of the cab dataframe\n",
    "cab_df.info()\n",
    "# Percentage of missing values\n",
    "print(\"Percentage of missing values\")\n",
    "cab_df.isnull().sum()/ len(cab_df)"
   ]
  },
  {
   "cell_type": "code",
   "execution_count": 4,
   "metadata": {
    "ExecuteTime": {
     "end_time": "2023-07-10T06:22:19.184149580Z",
     "start_time": "2023-07-10T06:22:18.607974904Z"
    }
   },
   "outputs": [
    {
     "data": {
      "text/plain": "             City   Population      Users\n0     NEW YORK NY   8,405,837    302,149 \n1      CHICAGO IL   1,955,130    164,468 \n2  LOS ANGELES CA   1,595,037    144,132 \n3        MIAMI FL   1,339,155     17,675 \n4  SILICON VALLEY   1,177,609     27,247 ",
      "text/html": "<div>\n<style scoped>\n    .dataframe tbody tr th:only-of-type {\n        vertical-align: middle;\n    }\n\n    .dataframe tbody tr th {\n        vertical-align: top;\n    }\n\n    .dataframe thead th {\n        text-align: right;\n    }\n</style>\n<table border=\"1\" class=\"dataframe\">\n  <thead>\n    <tr style=\"text-align: right;\">\n      <th></th>\n      <th>City</th>\n      <th>Population</th>\n      <th>Users</th>\n    </tr>\n  </thead>\n  <tbody>\n    <tr>\n      <th>0</th>\n      <td>NEW YORK NY</td>\n      <td>8,405,837</td>\n      <td>302,149</td>\n    </tr>\n    <tr>\n      <th>1</th>\n      <td>CHICAGO IL</td>\n      <td>1,955,130</td>\n      <td>164,468</td>\n    </tr>\n    <tr>\n      <th>2</th>\n      <td>LOS ANGELES CA</td>\n      <td>1,595,037</td>\n      <td>144,132</td>\n    </tr>\n    <tr>\n      <th>3</th>\n      <td>MIAMI FL</td>\n      <td>1,339,155</td>\n      <td>17,675</td>\n    </tr>\n    <tr>\n      <th>4</th>\n      <td>SILICON VALLEY</td>\n      <td>1,177,609</td>\n      <td>27,247</td>\n    </tr>\n  </tbody>\n</table>\n</div>"
     },
     "execution_count": 4,
     "metadata": {},
     "output_type": "execute_result"
    }
   ],
   "source": [
    "city_df.head()\n"
   ]
  },
  {
   "cell_type": "code",
   "execution_count": 5,
   "metadata": {
    "ExecuteTime": {
     "end_time": "2023-07-10T06:22:19.291913558Z",
     "start_time": "2023-07-10T06:22:18.644731595Z"
    }
   },
   "outputs": [
    {
     "name": "stdout",
     "output_type": "stream",
     "text": [
      "<class 'pandas.core.frame.DataFrame'>\n",
      "RangeIndex: 20 entries, 0 to 19\n",
      "Data columns (total 3 columns):\n",
      " #   Column      Non-Null Count  Dtype \n",
      "---  ------      --------------  ----- \n",
      " 0   City        20 non-null     object\n",
      " 1   Population  20 non-null     object\n",
      " 2   Users       20 non-null     object\n",
      "dtypes: object(3)\n",
      "memory usage: 612.0+ bytes\n"
     ]
    },
    {
     "data": {
      "text/plain": "City          0.0\nPopulation    0.0\nUsers         0.0\ndtype: float64"
     },
     "execution_count": 5,
     "metadata": {},
     "output_type": "execute_result"
    }
   ],
   "source": [
    "city_df.info()\n",
    "\n",
    "#Checking for null values\n",
    "city_df.isna().sum() / len(city_df)"
   ]
  },
  {
   "cell_type": "code",
   "execution_count": 6,
   "metadata": {
    "ExecuteTime": {
     "end_time": "2023-07-10T06:22:19.293532012Z",
     "start_time": "2023-07-10T06:22:18.704655972Z"
    }
   },
   "outputs": [
    {
     "data": {
      "text/plain": "   Customer ID Gender  Age  Income (USD/Month)\n0        29290   Male   28               10813\n1        27703   Male   27                9237\n2        28712   Male   53               11242\n3        28020   Male   23               23327\n4        27182   Male   33                8536",
      "text/html": "<div>\n<style scoped>\n    .dataframe tbody tr th:only-of-type {\n        vertical-align: middle;\n    }\n\n    .dataframe tbody tr th {\n        vertical-align: top;\n    }\n\n    .dataframe thead th {\n        text-align: right;\n    }\n</style>\n<table border=\"1\" class=\"dataframe\">\n  <thead>\n    <tr style=\"text-align: right;\">\n      <th></th>\n      <th>Customer ID</th>\n      <th>Gender</th>\n      <th>Age</th>\n      <th>Income (USD/Month)</th>\n    </tr>\n  </thead>\n  <tbody>\n    <tr>\n      <th>0</th>\n      <td>29290</td>\n      <td>Male</td>\n      <td>28</td>\n      <td>10813</td>\n    </tr>\n    <tr>\n      <th>1</th>\n      <td>27703</td>\n      <td>Male</td>\n      <td>27</td>\n      <td>9237</td>\n    </tr>\n    <tr>\n      <th>2</th>\n      <td>28712</td>\n      <td>Male</td>\n      <td>53</td>\n      <td>11242</td>\n    </tr>\n    <tr>\n      <th>3</th>\n      <td>28020</td>\n      <td>Male</td>\n      <td>23</td>\n      <td>23327</td>\n    </tr>\n    <tr>\n      <th>4</th>\n      <td>27182</td>\n      <td>Male</td>\n      <td>33</td>\n      <td>8536</td>\n    </tr>\n  </tbody>\n</table>\n</div>"
     },
     "execution_count": 6,
     "metadata": {},
     "output_type": "execute_result"
    }
   ],
   "source": [
    "customer_df.head()\n"
   ]
  },
  {
   "cell_type": "code",
   "execution_count": 7,
   "metadata": {
    "ExecuteTime": {
     "end_time": "2023-07-10T06:22:19.336470558Z",
     "start_time": "2023-07-10T06:22:18.747149507Z"
    }
   },
   "outputs": [
    {
     "name": "stdout",
     "output_type": "stream",
     "text": [
      "<class 'pandas.core.frame.DataFrame'>\n",
      "RangeIndex: 49171 entries, 0 to 49170\n",
      "Data columns (total 4 columns):\n",
      " #   Column              Non-Null Count  Dtype \n",
      "---  ------              --------------  ----- \n",
      " 0   Customer ID         49171 non-null  int64 \n",
      " 1   Gender              49171 non-null  object\n",
      " 2   Age                 49171 non-null  int64 \n",
      " 3   Income (USD/Month)  49171 non-null  int64 \n",
      "dtypes: int64(3), object(1)\n",
      "memory usage: 1.5+ MB\n"
     ]
    },
    {
     "data": {
      "text/plain": "Customer ID           0\nGender                0\nAge                   0\nIncome (USD/Month)    0\ndtype: int64"
     },
     "execution_count": 7,
     "metadata": {},
     "output_type": "execute_result"
    }
   ],
   "source": [
    "customer_df.info()\n",
    "\n",
    "customer_df.isnull().sum()"
   ]
  },
  {
   "cell_type": "code",
   "execution_count": 8,
   "metadata": {
    "ExecuteTime": {
     "end_time": "2023-07-10T06:22:19.351363926Z",
     "start_time": "2023-07-10T06:22:18.880792162Z"
    }
   },
   "outputs": [
    {
     "data": {
      "text/plain": "   Transaction ID  Customer ID Payment_Mode\n0        10000011        29290         Card\n1        10000012        27703         Card\n2        10000013        28712         Cash\n3        10000014        28020         Cash\n4        10000015        27182         Card",
      "text/html": "<div>\n<style scoped>\n    .dataframe tbody tr th:only-of-type {\n        vertical-align: middle;\n    }\n\n    .dataframe tbody tr th {\n        vertical-align: top;\n    }\n\n    .dataframe thead th {\n        text-align: right;\n    }\n</style>\n<table border=\"1\" class=\"dataframe\">\n  <thead>\n    <tr style=\"text-align: right;\">\n      <th></th>\n      <th>Transaction ID</th>\n      <th>Customer ID</th>\n      <th>Payment_Mode</th>\n    </tr>\n  </thead>\n  <tbody>\n    <tr>\n      <th>0</th>\n      <td>10000011</td>\n      <td>29290</td>\n      <td>Card</td>\n    </tr>\n    <tr>\n      <th>1</th>\n      <td>10000012</td>\n      <td>27703</td>\n      <td>Card</td>\n    </tr>\n    <tr>\n      <th>2</th>\n      <td>10000013</td>\n      <td>28712</td>\n      <td>Cash</td>\n    </tr>\n    <tr>\n      <th>3</th>\n      <td>10000014</td>\n      <td>28020</td>\n      <td>Cash</td>\n    </tr>\n    <tr>\n      <th>4</th>\n      <td>10000015</td>\n      <td>27182</td>\n      <td>Card</td>\n    </tr>\n  </tbody>\n</table>\n</div>"
     },
     "execution_count": 8,
     "metadata": {},
     "output_type": "execute_result"
    }
   ],
   "source": [
    "transaction_df.head()"
   ]
  },
  {
   "cell_type": "code",
   "execution_count": 9,
   "metadata": {
    "ExecuteTime": {
     "end_time": "2023-07-10T06:22:20.042351620Z",
     "start_time": "2023-07-10T06:22:18.968524645Z"
    }
   },
   "outputs": [
    {
     "name": "stdout",
     "output_type": "stream",
     "text": [
      "<class 'pandas.core.frame.DataFrame'>\n",
      "RangeIndex: 440098 entries, 0 to 440097\n",
      "Data columns (total 3 columns):\n",
      " #   Column          Non-Null Count   Dtype \n",
      "---  ------          --------------   ----- \n",
      " 0   Transaction ID  440098 non-null  int64 \n",
      " 1   Customer ID     440098 non-null  int64 \n",
      " 2   Payment_Mode    440098 non-null  object\n",
      "dtypes: int64(2), object(1)\n",
      "memory usage: 10.1+ MB\n"
     ]
    },
    {
     "data": {
      "text/plain": "Transaction ID    0\nCustomer ID       0\nPayment_Mode      0\ndtype: int64"
     },
     "execution_count": 9,
     "metadata": {},
     "output_type": "execute_result"
    }
   ],
   "source": [
    "transaction_df.info()\n",
    "\n",
    "transaction_df.isnull().sum()"
   ]
  },
  {
   "cell_type": "markdown",
   "metadata": {},
   "source": [
    "## Combining the datasets to one dataframe"
   ]
  },
  {
   "cell_type": "code",
   "execution_count": 10,
   "metadata": {
    "ExecuteTime": {
     "end_time": "2023-07-10T06:22:20.558010670Z",
     "start_time": "2023-07-10T06:22:19.472572359Z"
    }
   },
   "outputs": [
    {
     "data": {
      "text/plain": "   Customer ID Gender  Age  Income (USD/Month)  Transaction ID Payment_Mode\n0        29290   Male   28               10813        10000011         Card\n1        29290   Male   28               10813        10351127         Cash\n2        29290   Male   28               10813        10412921         Card\n3        27703   Male   27                9237        10000012         Card\n4        27703   Male   27                9237        10320494         Card",
      "text/html": "<div>\n<style scoped>\n    .dataframe tbody tr th:only-of-type {\n        vertical-align: middle;\n    }\n\n    .dataframe tbody tr th {\n        vertical-align: top;\n    }\n\n    .dataframe thead th {\n        text-align: right;\n    }\n</style>\n<table border=\"1\" class=\"dataframe\">\n  <thead>\n    <tr style=\"text-align: right;\">\n      <th></th>\n      <th>Customer ID</th>\n      <th>Gender</th>\n      <th>Age</th>\n      <th>Income (USD/Month)</th>\n      <th>Transaction ID</th>\n      <th>Payment_Mode</th>\n    </tr>\n  </thead>\n  <tbody>\n    <tr>\n      <th>0</th>\n      <td>29290</td>\n      <td>Male</td>\n      <td>28</td>\n      <td>10813</td>\n      <td>10000011</td>\n      <td>Card</td>\n    </tr>\n    <tr>\n      <th>1</th>\n      <td>29290</td>\n      <td>Male</td>\n      <td>28</td>\n      <td>10813</td>\n      <td>10351127</td>\n      <td>Cash</td>\n    </tr>\n    <tr>\n      <th>2</th>\n      <td>29290</td>\n      <td>Male</td>\n      <td>28</td>\n      <td>10813</td>\n      <td>10412921</td>\n      <td>Card</td>\n    </tr>\n    <tr>\n      <th>3</th>\n      <td>27703</td>\n      <td>Male</td>\n      <td>27</td>\n      <td>9237</td>\n      <td>10000012</td>\n      <td>Card</td>\n    </tr>\n    <tr>\n      <th>4</th>\n      <td>27703</td>\n      <td>Male</td>\n      <td>27</td>\n      <td>9237</td>\n      <td>10320494</td>\n      <td>Card</td>\n    </tr>\n  </tbody>\n</table>\n</div>"
     },
     "execution_count": 10,
     "metadata": {},
     "output_type": "execute_result"
    }
   ],
   "source": [
    "# Customer information\n",
    "customer_info = pd.merge(customer_df, transaction_df)\n",
    "customer_info.head()\n"
   ]
  },
  {
   "cell_type": "code",
   "execution_count": 11,
   "metadata": {
    "ExecuteTime": {
     "end_time": "2023-07-10T06:22:21.467406264Z",
     "start_time": "2023-07-10T06:22:19.939007621Z"
    }
   },
   "outputs": [
    {
     "data": {
      "text/plain": "   Transaction ID  Date of Travel   Company        City  KM Travelled  \\\n0        10000011           42377  Pink Cab  ATLANTA GA         30.45   \n1        10000012           42375  Pink Cab  ATLANTA GA         28.62   \n2        10000013           42371  Pink Cab  ATLANTA GA          9.04   \n3        10000014           42376  Pink Cab  ATLANTA GA         33.17   \n4        10000015           42372  Pink Cab  ATLANTA GA          8.73   \n\n   Price Charged  Cost of Trip Population     Users  \n0         370.95       313.635   814,885    24,701   \n1         358.52       334.854   814,885    24,701   \n2         125.20        97.632   814,885    24,701   \n3         377.40       351.602   814,885    24,701   \n4         114.62        97.776   814,885    24,701   ",
      "text/html": "<div>\n<style scoped>\n    .dataframe tbody tr th:only-of-type {\n        vertical-align: middle;\n    }\n\n    .dataframe tbody tr th {\n        vertical-align: top;\n    }\n\n    .dataframe thead th {\n        text-align: right;\n    }\n</style>\n<table border=\"1\" class=\"dataframe\">\n  <thead>\n    <tr style=\"text-align: right;\">\n      <th></th>\n      <th>Transaction ID</th>\n      <th>Date of Travel</th>\n      <th>Company</th>\n      <th>City</th>\n      <th>KM Travelled</th>\n      <th>Price Charged</th>\n      <th>Cost of Trip</th>\n      <th>Population</th>\n      <th>Users</th>\n    </tr>\n  </thead>\n  <tbody>\n    <tr>\n      <th>0</th>\n      <td>10000011</td>\n      <td>42377</td>\n      <td>Pink Cab</td>\n      <td>ATLANTA GA</td>\n      <td>30.45</td>\n      <td>370.95</td>\n      <td>313.635</td>\n      <td>814,885</td>\n      <td>24,701</td>\n    </tr>\n    <tr>\n      <th>1</th>\n      <td>10000012</td>\n      <td>42375</td>\n      <td>Pink Cab</td>\n      <td>ATLANTA GA</td>\n      <td>28.62</td>\n      <td>358.52</td>\n      <td>334.854</td>\n      <td>814,885</td>\n      <td>24,701</td>\n    </tr>\n    <tr>\n      <th>2</th>\n      <td>10000013</td>\n      <td>42371</td>\n      <td>Pink Cab</td>\n      <td>ATLANTA GA</td>\n      <td>9.04</td>\n      <td>125.20</td>\n      <td>97.632</td>\n      <td>814,885</td>\n      <td>24,701</td>\n    </tr>\n    <tr>\n      <th>3</th>\n      <td>10000014</td>\n      <td>42376</td>\n      <td>Pink Cab</td>\n      <td>ATLANTA GA</td>\n      <td>33.17</td>\n      <td>377.40</td>\n      <td>351.602</td>\n      <td>814,885</td>\n      <td>24,701</td>\n    </tr>\n    <tr>\n      <th>4</th>\n      <td>10000015</td>\n      <td>42372</td>\n      <td>Pink Cab</td>\n      <td>ATLANTA GA</td>\n      <td>8.73</td>\n      <td>114.62</td>\n      <td>97.776</td>\n      <td>814,885</td>\n      <td>24,701</td>\n    </tr>\n  </tbody>\n</table>\n</div>"
     },
     "execution_count": 11,
     "metadata": {},
     "output_type": "execute_result"
    }
   ],
   "source": [
    "# Cab information\n",
    "cab_info = pd.merge(cab_df, city_df)\n",
    "cab_info.head()"
   ]
  },
  {
   "cell_type": "code",
   "execution_count": 12,
   "metadata": {
    "ExecuteTime": {
     "end_time": "2023-07-10T06:22:21.615637993Z",
     "start_time": "2023-07-10T06:22:20.119025703Z"
    }
   },
   "outputs": [
    {
     "data": {
      "text/plain": "Index(['Customer ID', 'Gender', 'Age', 'Income (USD/Month)', 'Transaction ID',\n       'Payment_Mode'],\n      dtype='object')"
     },
     "execution_count": 12,
     "metadata": {},
     "output_type": "execute_result"
    }
   ],
   "source": [
    "customer_info.columns"
   ]
  },
  {
   "cell_type": "code",
   "execution_count": 13,
   "metadata": {
    "ExecuteTime": {
     "end_time": "2023-07-10T06:22:21.617160276Z",
     "start_time": "2023-07-10T06:22:20.137066420Z"
    }
   },
   "outputs": [
    {
     "name": "stdout",
     "output_type": "stream",
     "text": [
      "Shape for cab: (359392, 7), customer : (49171, 4), City: (20, 3), transaction: (440098, 3)\n"
     ]
    }
   ],
   "source": [
    "#print the shapes of the initial dataframes\n",
    "print(f\"Shape for cab: {cab_df.shape}, customer : {customer_df.shape}, City: {city_df.shape}, transaction: {transaction_df.shape}\")"
   ]
  },
  {
   "cell_type": "code",
   "execution_count": 14,
   "metadata": {
    "ExecuteTime": {
     "end_time": "2023-07-10T06:22:32.803755156Z",
     "start_time": "2023-07-10T06:22:20.152936063Z"
    }
   },
   "outputs": [],
   "source": [
    "customer_info.to_csv(\"customer_information.csv\")\n",
    "cab_info.to_csv(\"cab_information.csv\")"
   ]
  },
  {
   "cell_type": "code",
   "execution_count": 55,
   "metadata": {
    "ExecuteTime": {
     "end_time": "2023-07-10T07:36:40.030032460Z",
     "start_time": "2023-07-10T07:36:38.443667271Z"
    }
   },
   "outputs": [
    {
     "name": "stdout",
     "output_type": "stream",
     "text": [
      "['Gender_Male', 'Gender_Female', 'Payment_Mode_Card', 'Payment_Mode_Cash']\n"
     ]
    },
    {
     "data": {
      "text/plain": "   Customer ID  Age  Income (USD/Month)  Transaction ID  Gender_Male  \\\n0        29290   28               10813        10000011          0.0   \n1        29290   28               10813        10351127          0.0   \n2        29290   28               10813        10412921          0.0   \n3        27703   27                9237        10000012          0.0   \n4        27703   27                9237        10320494          0.0   \n\n   Gender_Female  Payment_Mode_Card  Payment_Mode_Cash  \n0            1.0                1.0                0.0  \n1            1.0                0.0                1.0  \n2            1.0                1.0                0.0  \n3            1.0                1.0                0.0  \n4            1.0                1.0                0.0  ",
      "text/html": "<div>\n<style scoped>\n    .dataframe tbody tr th:only-of-type {\n        vertical-align: middle;\n    }\n\n    .dataframe tbody tr th {\n        vertical-align: top;\n    }\n\n    .dataframe thead th {\n        text-align: right;\n    }\n</style>\n<table border=\"1\" class=\"dataframe\">\n  <thead>\n    <tr style=\"text-align: right;\">\n      <th></th>\n      <th>Customer ID</th>\n      <th>Age</th>\n      <th>Income (USD/Month)</th>\n      <th>Transaction ID</th>\n      <th>Gender_Male</th>\n      <th>Gender_Female</th>\n      <th>Payment_Mode_Card</th>\n      <th>Payment_Mode_Cash</th>\n    </tr>\n  </thead>\n  <tbody>\n    <tr>\n      <th>0</th>\n      <td>29290</td>\n      <td>28</td>\n      <td>10813</td>\n      <td>10000011</td>\n      <td>0.0</td>\n      <td>1.0</td>\n      <td>1.0</td>\n      <td>0.0</td>\n    </tr>\n    <tr>\n      <th>1</th>\n      <td>29290</td>\n      <td>28</td>\n      <td>10813</td>\n      <td>10351127</td>\n      <td>0.0</td>\n      <td>1.0</td>\n      <td>0.0</td>\n      <td>1.0</td>\n    </tr>\n    <tr>\n      <th>2</th>\n      <td>29290</td>\n      <td>28</td>\n      <td>10813</td>\n      <td>10412921</td>\n      <td>0.0</td>\n      <td>1.0</td>\n      <td>1.0</td>\n      <td>0.0</td>\n    </tr>\n    <tr>\n      <th>3</th>\n      <td>27703</td>\n      <td>27</td>\n      <td>9237</td>\n      <td>10000012</td>\n      <td>0.0</td>\n      <td>1.0</td>\n      <td>1.0</td>\n      <td>0.0</td>\n    </tr>\n    <tr>\n      <th>4</th>\n      <td>27703</td>\n      <td>27</td>\n      <td>9237</td>\n      <td>10320494</td>\n      <td>0.0</td>\n      <td>1.0</td>\n      <td>1.0</td>\n      <td>0.0</td>\n    </tr>\n  </tbody>\n</table>\n</div>"
     },
     "execution_count": 55,
     "metadata": {},
     "output_type": "execute_result"
    }
   ],
   "source": [
    "# Select the columns to be encoded\n",
    "target_columns = customer_info[['Gender', 'Payment_Mode']]\n",
    "\n",
    "# Perform label encoding\n",
    "label_encoder = LabelEncoder()\n",
    "label_encoded = target_columns.apply(label_encoder.fit_transform)\n",
    "\n",
    "# Perform one-hot encoding\n",
    "one_hot_encoder = OneHotEncoder()\n",
    "one_hot_encoded = one_hot_encoder.fit_transform(label_encoded)\n",
    "\n",
    "# Get the feature names\n",
    "encoded_feature_names = []\n",
    "for col in target_columns.columns:\n",
    "    # Getting the unique categorical values in the target columns\n",
    "    unique_values = target_columns[col].unique()\n",
    "    for value in unique_values:\n",
    "        encoded_feature_names.append(f\"{col}_{value}\")\n",
    "\n",
    "# create a dataframe of the one-hot encoded columns\n",
    "one_hot_encoded_df = pd.DataFrame(one_hot_encoded.toarray(), columns=encoded_feature_names)\n",
    "\n",
    "# Concatenate the customer dataframe with the one-hot encoded columns\n",
    "customer_info_encoded = pd.concat([customer_info.drop(target_columns, axis=1), one_hot_encoded_df], axis=1)\n",
    "\n",
    "one_hot_encoded_df.head()\n"
   ]
  },
  {
   "cell_type": "markdown",
   "metadata": {},
   "source": [
    "## Understanging the relationships between the data"
   ]
  },
  {
   "cell_type": "code",
   "execution_count": 16,
   "metadata": {
    "ExecuteTime": {
     "end_time": "2023-07-10T06:24:42.617860658Z",
     "start_time": "2023-07-10T06:24:40.869952778Z"
    }
   },
   "outputs": [
    {
     "name": "stderr",
     "output_type": "stream",
     "text": [
      "/tmp/ipykernel_17087/954614129.py:1: FutureWarning: The default value of numeric_only in DataFrame.corr is deprecated. In a future version, it will default to False. Select only valid columns or specify the value of numeric_only to silence this warning.\n",
      "  correlation = customer_info.corr().style.background_gradient (cmap = 'BrBG')\n"
     ]
    }
   ],
   "source": [
    "correlation = customer_info.corr().style.background_gradient (cmap = 'BrBG')"
   ]
  },
  {
   "cell_type": "code",
   "execution_count": 17,
   "metadata": {
    "ExecuteTime": {
     "end_time": "2023-07-10T06:24:43.862984543Z",
     "start_time": "2023-07-10T06:24:42.608566179Z"
    }
   },
   "outputs": [
    {
     "ename": "AttributeError",
     "evalue": "'Styler' object has no attribute 'style'",
     "output_type": "error",
     "traceback": [
      "\u001B[0;31m---------------------------------------------------------------------------\u001B[0m",
      "\u001B[0;31mAttributeError\u001B[0m                            Traceback (most recent call last)",
      "Cell \u001B[0;32mIn[17], line 1\u001B[0m\n\u001B[0;32m----> 1\u001B[0m \u001B[43mcorrelation\u001B[49m\u001B[38;5;241;43m.\u001B[39;49m\u001B[43mstyle\u001B[49m\u001B[38;5;241m.\u001B[39mbackground_gradient (cmap \u001B[38;5;241m=\u001B[39m \u001B[38;5;124m'\u001B[39m\u001B[38;5;124mBrBG\u001B[39m\u001B[38;5;124m'\u001B[39m)\n",
      "\u001B[0;31mAttributeError\u001B[0m: 'Styler' object has no attribute 'style'"
     ]
    }
   ],
   "source": [
    "correlation.style.background_gradient (cmap = 'BrBG')"
   ]
  },
  {
   "cell_type": "code",
   "execution_count": null,
   "metadata": {
    "ExecuteTime": {
     "start_time": "2023-07-10T06:24:43.856005164Z"
    }
   },
   "outputs": [],
   "source": []
  }
 ],
 "metadata": {
  "kernelspec": {
   "display_name": "Python 3 (ipykernel)",
   "language": "python",
   "name": "python3"
  },
  "language_info": {
   "codemirror_mode": {
    "name": "ipython",
    "version": 3
   },
   "file_extension": ".py",
   "mimetype": "text/x-python",
   "name": "python",
   "nbconvert_exporter": "python",
   "pygments_lexer": "ipython3",
   "version": "3.11.3"
  }
 },
 "nbformat": 4,
 "nbformat_minor": 2
}
